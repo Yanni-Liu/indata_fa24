{
 "cells": [
  {
   "cell_type": "markdown",
   "id": "925dc72b-cec3-4fbd-bfe0-9da00d1f6395",
   "metadata": {},
   "source": [
    "# Systems Check\n",
    "## Yanni Liu\n",
    "### 8/20/2024\n",
    "\n",
    "### In this class, I accomplished the following:\n",
    "\n",
    "\n",
    "1. Met the fantastic professor **David Silva and peers** who are also interested in the data world.\n",
    "\n",
    "2. Understood the basics of Jupyter Notebook:\n",
    "   - *Launched Jupyter Notebook from Anaconda*\n",
    "   - *Created and managed files*\n",
    "   - *Learned to use markdown cells*\n",
    "\n",
    "3. Became familiar with Python syntax:\n",
    "   - *Variable assignment*\n",
    "   - *For loop structure*\n",
    "   - *Function with 'print' and 'return' statements*\n",
    "\n",
    "4. Created a new repository and uploaded my .ipynb file on *Github*\n",
    "\n",
    "### Such great preparation for more complicated programming tasks in the future :D  \n"
   ]
  },
  {
   "cell_type": "code",
   "execution_count": 13,
   "id": "b354b9c2-bfc2-4867-9117-e0a2c60047cd",
   "metadata": {},
   "outputs": [],
   "source": [
    "#Variable assignment\n",
    "x=10\n",
    "y=11\n",
    "z=x+y"
   ]
  },
  {
   "cell_type": "code",
   "execution_count": 14,
   "id": "5b3ab1a2-d7e0-4290-9118-502f7016e2a7",
   "metadata": {},
   "outputs": [
    {
     "data": {
      "text/plain": [
       "21"
      ]
     },
     "execution_count": 14,
     "metadata": {},
     "output_type": "execute_result"
    }
   ],
   "source": [
    "z"
   ]
  },
  {
   "cell_type": "code",
   "execution_count": 15,
   "id": "dfb9767b-e0bd-4e74-8497-2bdf6b5a4543",
   "metadata": {},
   "outputs": [
    {
     "name": "stdout",
     "output_type": "stream",
     "text": [
      "Emotions: joy\n",
      "Emotions: anger\n",
      "Emotions: sadness\n",
      "Emotions: fear\n",
      "Emotions: anxiety\n"
     ]
    }
   ],
   "source": [
    "#A for loop\n",
    "emotions = [\"joy\", \"anger\", \"sadness\", \"fear\", \"anxiety\"]\n",
    "for emo in emotions:\n",
    "    print(\"Emotions:\", emo)"
   ]
  },
  {
   "cell_type": "code",
   "execution_count": 16,
   "id": "9f187262-d21d-4c4d-856a-8a20ce496244",
   "metadata": {},
   "outputs": [
    {
     "data": {
      "text/plain": [
       "'anger'"
      ]
     },
     "execution_count": 16,
     "metadata": {},
     "output_type": "execute_result"
    }
   ],
   "source": [
    "emotions[1]"
   ]
  },
  {
   "cell_type": "markdown",
   "id": "34ce37a7-34e8-447c-ab36-d3ffd5c51392",
   "metadata": {},
   "source": [
    "![Image](https://images.squarespace-cdn.com/content/v1/51cdafc4e4b09eb676a64e68/1468880611009-EJS4HVJV2OPWGFSV4H1U/io_anger6.jpg)"
   ]
  },
  {
   "cell_type": "code",
   "execution_count": 28,
   "id": "d2dbfcc2-7e52-4bcd-a8f3-cbbb7eaec626",
   "metadata": {},
   "outputs": [],
   "source": [
    "#Function\n",
    "import random\n",
    "def random_food():\n",
    "    food = [\n",
    "        \"Burger\",\n",
    "        \"Sandwich\",\n",
    "        \"Hot pot\",\n",
    "        \"Sushi\",\n",
    "        \"Taco\",\n",
    "        \"Pasta\"\n",
    "    ]\n",
    "    chosen_food = random.choice(food)\n",
    "\n",
    "    print(f\"I will go have {chosen_food} today\")\n",
    "\n",
    "    return chosen_food"
   ]
  },
  {
   "cell_type": "code",
   "execution_count": 32,
   "id": "c26b7f93-3a45-425e-8cd8-1e049c234d22",
   "metadata": {},
   "outputs": [
    {
     "name": "stdout",
     "output_type": "stream",
     "text": [
      "I will go have Sushi today\n"
     ]
    }
   ],
   "source": [
    "selected_food = random_food()"
   ]
  },
  {
   "cell_type": "code",
   "execution_count": null,
   "id": "44b8ebf0-4d58-4183-8042-e9f08f6b4630",
   "metadata": {},
   "outputs": [],
   "source": []
  }
 ],
 "metadata": {
  "kernelspec": {
   "display_name": "Python 3 (ipykernel)",
   "language": "python",
   "name": "python3"
  },
  "language_info": {
   "codemirror_mode": {
    "name": "ipython",
    "version": 3
   },
   "file_extension": ".py",
   "mimetype": "text/x-python",
   "name": "python",
   "nbconvert_exporter": "python",
   "pygments_lexer": "ipython3",
   "version": "3.12.4"
  }
 },
 "nbformat": 4,
 "nbformat_minor": 5
}
