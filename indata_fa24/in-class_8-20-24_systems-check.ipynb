{
 "cells": [
  {
   "cell_type": "markdown",
   "id": "925dc72b-cec3-4fbd-bfe0-9da00d1f6395",
   "metadata": {},
   "source": [
    "# Systems Check\n",
    "## Yanni Liu\n",
    "### 8/20/2024"
   ]
  },
  {
   "cell_type": "code",
   "execution_count": null,
   "id": "b354b9c2-bfc2-4867-9117-e0a2c60047cd",
   "metadata": {},
   "outputs": [],
   "source": []
  }
 ],
 "metadata": {
  "kernelspec": {
   "display_name": "Python 3 (ipykernel)",
   "language": "python",
   "name": "python3"
  },
  "language_info": {
   "codemirror_mode": {
    "name": "ipython",
    "version": 3
   },
   "file_extension": ".py",
   "mimetype": "text/x-python",
   "name": "python",
   "nbconvert_exporter": "python",
   "pygments_lexer": "ipython3",
   "version": "3.12.4"
  }
 },
 "nbformat": 4,
 "nbformat_minor": 5
}
