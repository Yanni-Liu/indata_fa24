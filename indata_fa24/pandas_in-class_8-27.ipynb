{
 "cells": [
  {
   "cell_type": "code",
   "execution_count": 1,
   "id": "c99497c4-b544-4122-b0de-5d989e0f616b",
   "metadata": {},
   "outputs": [],
   "source": [
    "import pandas as pd\n",
    "#import matplotlib as plt"
   ]
  },
  {
   "cell_type": "code",
   "execution_count": 2,
   "id": "20ae435c-0091-4546-9ffa-e300cfb8d497",
   "metadata": {},
   "outputs": [],
   "source": [
    "my_data = {'Name': ['Emma','Olivia','Liam','James','Frank', 'Bob'],\n",
    "          'City': ['Kent','Seattle', 'Chicago', 'Boston', 'New York','Evanston'],\n",
    "          'Age':[19, 25, 29, 24, 21, 27]\n",
    "          }\n",
    "my_df = pd.DataFrame(my_data)"
   ]
  },
  {
   "cell_type": "code",
   "execution_count": 3,
   "id": "70fff4e1-9263-4a6e-a1b9-8ba639ca6a42",
   "metadata": {},
   "outputs": [
    {
     "data": {
      "text/html": [
       "<div>\n",
       "<style scoped>\n",
       "    .dataframe tbody tr th:only-of-type {\n",
       "        vertical-align: middle;\n",
       "    }\n",
       "\n",
       "    .dataframe tbody tr th {\n",
       "        vertical-align: top;\n",
       "    }\n",
       "\n",
       "    .dataframe thead th {\n",
       "        text-align: right;\n",
       "    }\n",
       "</style>\n",
       "<table border=\"1\" class=\"dataframe\">\n",
       "  <thead>\n",
       "    <tr style=\"text-align: right;\">\n",
       "      <th></th>\n",
       "      <th>Name</th>\n",
       "      <th>City</th>\n",
       "      <th>Age</th>\n",
       "    </tr>\n",
       "  </thead>\n",
       "  <tbody>\n",
       "    <tr>\n",
       "      <th>0</th>\n",
       "      <td>Emma</td>\n",
       "      <td>Kent</td>\n",
       "      <td>19</td>\n",
       "    </tr>\n",
       "    <tr>\n",
       "      <th>1</th>\n",
       "      <td>Olivia</td>\n",
       "      <td>Seattle</td>\n",
       "      <td>25</td>\n",
       "    </tr>\n",
       "    <tr>\n",
       "      <th>2</th>\n",
       "      <td>Liam</td>\n",
       "      <td>Chicago</td>\n",
       "      <td>29</td>\n",
       "    </tr>\n",
       "    <tr>\n",
       "      <th>3</th>\n",
       "      <td>James</td>\n",
       "      <td>Boston</td>\n",
       "      <td>24</td>\n",
       "    </tr>\n",
       "    <tr>\n",
       "      <th>4</th>\n",
       "      <td>Frank</td>\n",
       "      <td>New York</td>\n",
       "      <td>21</td>\n",
       "    </tr>\n",
       "  </tbody>\n",
       "</table>\n",
       "</div>"
      ],
      "text/plain": [
       "     Name      City  Age\n",
       "0    Emma      Kent   19\n",
       "1  Olivia   Seattle   25\n",
       "2    Liam   Chicago   29\n",
       "3   James    Boston   24\n",
       "4   Frank  New York   21"
      ]
     },
     "execution_count": 3,
     "metadata": {},
     "output_type": "execute_result"
    }
   ],
   "source": [
    "my_df.head()"
   ]
  },
  {
   "cell_type": "code",
   "execution_count": 4,
   "id": "223615b4-8585-4689-99c0-41d038882fb5",
   "metadata": {},
   "outputs": [
    {
     "data": {
      "text/html": [
       "<div>\n",
       "<style scoped>\n",
       "    .dataframe tbody tr th:only-of-type {\n",
       "        vertical-align: middle;\n",
       "    }\n",
       "\n",
       "    .dataframe tbody tr th {\n",
       "        vertical-align: top;\n",
       "    }\n",
       "\n",
       "    .dataframe thead th {\n",
       "        text-align: right;\n",
       "    }\n",
       "</style>\n",
       "<table border=\"1\" class=\"dataframe\">\n",
       "  <thead>\n",
       "    <tr style=\"text-align: right;\">\n",
       "      <th></th>\n",
       "      <th>Name</th>\n",
       "      <th>City</th>\n",
       "      <th>Age</th>\n",
       "    </tr>\n",
       "  </thead>\n",
       "  <tbody>\n",
       "    <tr>\n",
       "      <th>1</th>\n",
       "      <td>Olivia</td>\n",
       "      <td>Seattle</td>\n",
       "      <td>25</td>\n",
       "    </tr>\n",
       "    <tr>\n",
       "      <th>2</th>\n",
       "      <td>Liam</td>\n",
       "      <td>Chicago</td>\n",
       "      <td>29</td>\n",
       "    </tr>\n",
       "    <tr>\n",
       "      <th>3</th>\n",
       "      <td>James</td>\n",
       "      <td>Boston</td>\n",
       "      <td>24</td>\n",
       "    </tr>\n",
       "    <tr>\n",
       "      <th>4</th>\n",
       "      <td>Frank</td>\n",
       "      <td>New York</td>\n",
       "      <td>21</td>\n",
       "    </tr>\n",
       "    <tr>\n",
       "      <th>5</th>\n",
       "      <td>Bob</td>\n",
       "      <td>Evanston</td>\n",
       "      <td>27</td>\n",
       "    </tr>\n",
       "  </tbody>\n",
       "</table>\n",
       "</div>"
      ],
      "text/plain": [
       "     Name      City  Age\n",
       "1  Olivia   Seattle   25\n",
       "2    Liam   Chicago   29\n",
       "3   James    Boston   24\n",
       "4   Frank  New York   21\n",
       "5     Bob  Evanston   27"
      ]
     },
     "execution_count": 4,
     "metadata": {},
     "output_type": "execute_result"
    }
   ],
   "source": [
    "my_df.tail()"
   ]
  },
  {
   "cell_type": "code",
   "execution_count": 6,
   "id": "5f34c721-d5f9-45c1-9098-ae258064627d",
   "metadata": {},
   "outputs": [
    {
     "data": {
      "text/plain": [
       "RangeIndex(start=0, stop=6, step=1)"
      ]
     },
     "execution_count": 6,
     "metadata": {},
     "output_type": "execute_result"
    }
   ],
   "source": [
    "my_df.index"
   ]
  },
  {
   "cell_type": "code",
   "execution_count": 8,
   "id": "c4c845ea-db91-4447-a6f7-5319f33ec2c5",
   "metadata": {},
   "outputs": [
    {
     "data": {
      "text/plain": [
       "0      Emma\n",
       "1    Olivia\n",
       "2      Liam\n",
       "3     James\n",
       "4     Frank\n",
       "5       Bob\n",
       "Name: Name, dtype: object"
      ]
     },
     "execution_count": 8,
     "metadata": {},
     "output_type": "execute_result"
    }
   ],
   "source": [
    "my_df['Name']"
   ]
  },
  {
   "cell_type": "code",
   "execution_count": 9,
   "id": "b659f5ec-6dcc-45e5-9fe0-5dbffd24d23d",
   "metadata": {},
   "outputs": [
    {
     "data": {
      "text/plain": [
       "Name    Emma\n",
       "City    Kent\n",
       "Age       19\n",
       "Name: 0, dtype: object"
      ]
     },
     "execution_count": 9,
     "metadata": {},
     "output_type": "execute_result"
    }
   ],
   "source": [
    "my_df.loc[0]"
   ]
  },
  {
   "cell_type": "code",
   "execution_count": 10,
   "id": "359b6a35-109e-4387-a80f-963b6ac5469e",
   "metadata": {},
   "outputs": [],
   "source": [
    "my_data2 = [ {'Name': 'Emma', 'Age': 19, 'City': 'Kent'},\n",
    "    {'Name': 'Olivia', 'Age': 25, 'City': 'Seattle'},\n",
    "    {'Name': 'Liam', 'Age': 29, 'City': 'Chicago'},\n",
    "    {'Name': 'James', 'Age': 24, 'City': 'Boston'},\n",
    "    {'Name': 'Frank', 'Age': 21, 'City': 'New York'},\n",
    "    {'Name': 'Bob', 'Age': 27, 'City': 'Evanston'}\n",
    "]\n",
    "my_df2 = pd.DataFrame(my_data2)"
   ]
  },
  {
   "cell_type": "code",
   "execution_count": 11,
   "id": "79740f93-ea6d-4c3c-b94b-4c58dc23253d",
   "metadata": {},
   "outputs": [
    {
     "data": {
      "text/html": [
       "<div>\n",
       "<style scoped>\n",
       "    .dataframe tbody tr th:only-of-type {\n",
       "        vertical-align: middle;\n",
       "    }\n",
       "\n",
       "    .dataframe tbody tr th {\n",
       "        vertical-align: top;\n",
       "    }\n",
       "\n",
       "    .dataframe thead th {\n",
       "        text-align: right;\n",
       "    }\n",
       "</style>\n",
       "<table border=\"1\" class=\"dataframe\">\n",
       "  <thead>\n",
       "    <tr style=\"text-align: right;\">\n",
       "      <th></th>\n",
       "      <th>Name</th>\n",
       "      <th>Age</th>\n",
       "      <th>City</th>\n",
       "    </tr>\n",
       "  </thead>\n",
       "  <tbody>\n",
       "    <tr>\n",
       "      <th>0</th>\n",
       "      <td>Emma</td>\n",
       "      <td>19</td>\n",
       "      <td>Kent</td>\n",
       "    </tr>\n",
       "    <tr>\n",
       "      <th>1</th>\n",
       "      <td>Olivia</td>\n",
       "      <td>25</td>\n",
       "      <td>Seattle</td>\n",
       "    </tr>\n",
       "    <tr>\n",
       "      <th>2</th>\n",
       "      <td>Liam</td>\n",
       "      <td>29</td>\n",
       "      <td>Chicago</td>\n",
       "    </tr>\n",
       "    <tr>\n",
       "      <th>3</th>\n",
       "      <td>James</td>\n",
       "      <td>24</td>\n",
       "      <td>Boston</td>\n",
       "    </tr>\n",
       "    <tr>\n",
       "      <th>4</th>\n",
       "      <td>Frank</td>\n",
       "      <td>21</td>\n",
       "      <td>New York</td>\n",
       "    </tr>\n",
       "  </tbody>\n",
       "</table>\n",
       "</div>"
      ],
      "text/plain": [
       "     Name  Age      City\n",
       "0    Emma   19      Kent\n",
       "1  Olivia   25   Seattle\n",
       "2    Liam   29   Chicago\n",
       "3   James   24    Boston\n",
       "4   Frank   21  New York"
      ]
     },
     "execution_count": 11,
     "metadata": {},
     "output_type": "execute_result"
    }
   ],
   "source": [
    "my_df2.head()"
   ]
  },
  {
   "cell_type": "code",
   "execution_count": 12,
   "id": "64ea13c6-4344-4b2d-8297-e65ce80a512e",
   "metadata": {},
   "outputs": [],
   "source": [
    "my_df.to_csv('/Users/nemoby/Desktop/FA24-Data/my_dataframe.csv', index=False)"
   ]
  },
  {
   "cell_type": "markdown",
   "id": "eafa1be2-9595-4ccb-bba0-63a0ac90cd4b",
   "metadata": {},
   "source": [
    "## What does the \"write/render/evaluate\" loop provide for creators of interactive data visualizations?\n",
    "This process encourages experimentation and immediate feedback, enableing creators to iteratively develop and refine data visializations. Thus, creators are able to design a very engaging and dynamic visuals for their audiences.\n",
    "## Why are dynamic, interactive data visualizations useful when communicating data?\n",
    "It is challenging to fairly represent multidimensional data in static images because the number of dimensions creators can show at once is very limited. Dynamic, interactive data visualizations would allow users to engage with the data deeply by filtering information and zooming in on area of their interest in a more exploratory way, leading to a improved decision-making.\n",
    "## Do you agree with Murray's claim that open-source tools that avoid proprietary software are best for publishing data visualization? In a few sentences, explain why you do or do not agree.\n",
    "Yes, I agree with Murray's claim. Unlike proprietary software which is tied to specific platforms and licenses, open-source tools could offer a broder audience better flexibility, accessibility, and transparency. In detail, audiences are able to access, modify, and share visualizations without constraints. Also, open-source communities forster innovation, keeping them with the latest advancements"
   ]
  },
  {
   "cell_type": "code",
   "execution_count": null,
   "id": "e781bb60-21e1-418a-ae4f-bc6471d95ecb",
   "metadata": {},
   "outputs": [],
   "source": []
  }
 ],
 "metadata": {
  "kernelspec": {
   "display_name": "Python 3 (ipykernel)",
   "language": "python",
   "name": "python3"
  },
  "language_info": {
   "codemirror_mode": {
    "name": "ipython",
    "version": 3
   },
   "file_extension": ".py",
   "mimetype": "text/x-python",
   "name": "python",
   "nbconvert_exporter": "python",
   "pygments_lexer": "ipython3",
   "version": "3.12.4"
  }
 },
 "nbformat": 4,
 "nbformat_minor": 5
}
