{
 "cells": [
  {
   "cell_type": "markdown",
   "id": "0604a99f-c464-4034-a17f-6853b2ee0c6f",
   "metadata": {},
   "source": [
    "# Importing libraries and loading JSON file"
   ]
  },
  {
   "cell_type": "code",
   "execution_count": 341,
   "id": "2c61d3c1-1163-4722-a02a-2f939107e43e",
   "metadata": {},
   "outputs": [],
   "source": [
    "import pandas as pd\n",
    "import numpy as np\n",
    "import json\n",
    "import datetime"
   ]
  },
  {
   "cell_type": "code",
   "execution_count": 316,
   "id": "5eb12dda-81f1-4cb1-936b-09777fc03d62",
   "metadata": {},
   "outputs": [],
   "source": [
    "with open('chessbuds_messages.json') as j:\n",
    "    chess_buds = json.load(j)"
   ]
  },
  {
   "cell_type": "markdown",
   "id": "31f82fcc-9fc6-4d16-9183-6e7e281fdb3d",
   "metadata": {},
   "source": [
    "# Exploring the type of data\n",
    "**I first checked if the JSON file has been loaded as a dictionary, and viewed the keys of this JSON dictionary, which helped me identify the main variables.**"
   ]
  },
  {
   "cell_type": "code",
   "execution_count": 317,
   "id": "ff534d2c-183d-4c8a-96cb-b1bd436e8cd3",
   "metadata": {},
   "outputs": [
    {
     "data": {
      "text/plain": [
       "dict"
      ]
     },
     "execution_count": 317,
     "metadata": {},
     "output_type": "execute_result"
    }
   ],
   "source": [
    "type(chess_buds)"
   ]
  },
  {
   "cell_type": "code",
   "execution_count": 318,
   "id": "88635a45-a144-4843-b936-6bec486e0970",
   "metadata": {},
   "outputs": [],
   "source": [
    "#chess_buds"
   ]
  },
  {
   "cell_type": "code",
   "execution_count": 319,
   "id": "54f2373a-e609-4aba-91b7-0eb847abdbfd",
   "metadata": {},
   "outputs": [
    {
     "data": {
      "text/plain": [
       "dict_keys(['participants', 'messages', 'title', 'is_still_participant', 'thread_type', 'thread_path', 'magic_words', 'joinable_mode'])"
      ]
     },
     "execution_count": 319,
     "metadata": {},
     "output_type": "execute_result"
    }
   ],
   "source": [
    "chess_buds.keys()"
   ]
  },
  {
   "cell_type": "markdown",
   "id": "244610c9-652c-4d39-838c-bc2b01d00bb8",
   "metadata": {},
   "source": [
    "# Checking key types\n",
    "**I wrote a function to iterate over the types of key elements of the dictionary, which helped understand the structure of nested dictionaries. Then, I accessed these nested data to find out the data content and what elements could pass to the DataFrame constructor for next tidy process. In detail, the dict of 'participants' only have 'name' variables, and it is also unnecessary for other elements to build dataframe for extensive processing for analysis purposes. However, 'message' data contained a list of entries, each represented as a dictionary with various keys. Some keys incorporated multiple observational units and contained nested data strctures, such as 'reactions', 'bumped_message_metadata', which went against Wickham's tidy date principles.**"
   ]
  },
  {
   "cell_type": "code",
   "execution_count": 320,
   "id": "fc108efe-a182-4436-a0b3-e5c6459e0b8a",
   "metadata": {},
   "outputs": [
    {
     "name": "stdout",
     "output_type": "stream",
     "text": [
      "participants <class 'list'>\n",
      "messages <class 'list'>\n",
      "title <class 'str'>\n",
      "is_still_participant <class 'bool'>\n",
      "thread_type <class 'str'>\n",
      "thread_path <class 'str'>\n",
      "magic_words <class 'list'>\n",
      "joinable_mode <class 'dict'>\n"
     ]
    }
   ],
   "source": [
    "def check_key_type(dict):\n",
    "    for key in dict.keys():\n",
    "        print(key, type(dict[key]))\n",
    "        \n",
    "check_key_type(chess_buds)"
   ]
  },
  {
   "cell_type": "code",
   "execution_count": 321,
   "id": "07516a77-bf57-4c36-a1b1-e4e8cb057df3",
   "metadata": {},
   "outputs": [
    {
     "data": {
      "text/plain": [
       "[{'name': 'Scott Pence'},\n",
       " {'name': 'Chad Larson'},\n",
       " {'name': 'Joanna Rusch'},\n",
       " {'name': 'Angela Babbitt Pence'},\n",
       " {'name': 'David Silva'},\n",
       " {'name': 'Aaron Rusch'},\n",
       " {'name': 'Timothy Vanderpool'}]"
      ]
     },
     "execution_count": 321,
     "metadata": {},
     "output_type": "execute_result"
    }
   ],
   "source": [
    "chess_buds['participants']"
   ]
  },
  {
   "cell_type": "code",
   "execution_count": 269,
   "id": "4722e7bb-2acc-4c2b-9a99-012d963301a2",
   "metadata": {},
   "outputs": [
    {
     "data": {
      "text/plain": [
       "'Chess Buds'"
      ]
     },
     "execution_count": 269,
     "metadata": {},
     "output_type": "execute_result"
    }
   ],
   "source": [
    "chess_buds['title']"
   ]
  },
  {
   "cell_type": "code",
   "execution_count": 270,
   "id": "0428258b-3291-4f63-9bde-e7b864548091",
   "metadata": {},
   "outputs": [
    {
     "data": {
      "text/plain": [
       "True"
      ]
     },
     "execution_count": 270,
     "metadata": {},
     "output_type": "execute_result"
    }
   ],
   "source": [
    "chess_buds['is_still_participant']"
   ]
  },
  {
   "cell_type": "code",
   "execution_count": 271,
   "id": "e8494327-cbed-40b8-b30d-9a8229e06c23",
   "metadata": {},
   "outputs": [
    {
     "data": {
      "text/plain": [
       "[]"
      ]
     },
     "execution_count": 271,
     "metadata": {},
     "output_type": "execute_result"
    }
   ],
   "source": [
    "chess_buds['magic_words']"
   ]
  },
  {
   "cell_type": "code",
   "execution_count": 272,
   "id": "c70adf1e-4ba7-46bf-8aad-f42c0af0128c",
   "metadata": {},
   "outputs": [
    {
     "data": {
      "text/plain": [
       "{'mode': 1, 'link': ''}"
      ]
     },
     "execution_count": 272,
     "metadata": {},
     "output_type": "execute_result"
    }
   ],
   "source": [
    "chess_buds['joinable_mode']"
   ]
  },
  {
   "cell_type": "code",
   "execution_count": 305,
   "id": "32cfac4d-7450-482a-9684-0bb8f07115a7",
   "metadata": {},
   "outputs": [],
   "source": [
    "chess_buds['messages']"
   ]
  },
  {
   "cell_type": "markdown",
   "id": "b0782236-b62a-4b72-950e-a45cf7e1b95d",
   "metadata": {},
   "source": [
    "# Creating a dataframe from 'messages'\n",
    "**I converted 'messages' into a DataFrame 'cb_m_df' and checked the initial structure.**"
   ]
  },
  {
   "cell_type": "code",
   "execution_count": 322,
   "id": "d3685230-ae3b-459c-834c-5eac16161046",
   "metadata": {},
   "outputs": [
    {
     "data": {
      "text/html": [
       "<div>\n",
       "<style scoped>\n",
       "    .dataframe tbody tr th:only-of-type {\n",
       "        vertical-align: middle;\n",
       "    }\n",
       "\n",
       "    .dataframe tbody tr th {\n",
       "        vertical-align: top;\n",
       "    }\n",
       "\n",
       "    .dataframe thead th {\n",
       "        text-align: right;\n",
       "    }\n",
       "</style>\n",
       "<table border=\"1\" class=\"dataframe\">\n",
       "  <thead>\n",
       "    <tr style=\"text-align: right;\">\n",
       "      <th></th>\n",
       "      <th>sender_name</th>\n",
       "      <th>timestamp_ms</th>\n",
       "      <th>content</th>\n",
       "      <th>reactions</th>\n",
       "      <th>type</th>\n",
       "      <th>is_unsent</th>\n",
       "      <th>is_taken_down</th>\n",
       "      <th>bumped_message_metadata</th>\n",
       "      <th>share</th>\n",
       "      <th>photos</th>\n",
       "      <th>gifs</th>\n",
       "      <th>users</th>\n",
       "    </tr>\n",
       "  </thead>\n",
       "  <tbody>\n",
       "    <tr>\n",
       "      <th>0</th>\n",
       "      <td>Joanna Rusch</td>\n",
       "      <td>1666374933946</td>\n",
       "      <td>Maybe he just wants to ride the publicity for ...</td>\n",
       "      <td>[{'reaction': 'ð', 'actor': 'Chad Larson'},...</td>\n",
       "      <td>Generic</td>\n",
       "      <td>False</td>\n",
       "      <td>False</td>\n",
       "      <td>{'bumped_message': 'Maybe he just wants to rid...</td>\n",
       "      <td>NaN</td>\n",
       "      <td>NaN</td>\n",
       "      <td>NaN</td>\n",
       "      <td>NaN</td>\n",
       "    </tr>\n",
       "    <tr>\n",
       "      <th>1</th>\n",
       "      <td>Chad Larson</td>\n",
       "      <td>1666373448613</td>\n",
       "      <td>To be fair to Hans....no one wants to be assoc...</td>\n",
       "      <td>[{'reaction': 'ð', 'actor': 'Scott Pence'},...</td>\n",
       "      <td>Generic</td>\n",
       "      <td>False</td>\n",
       "      <td>False</td>\n",
       "      <td>{'bumped_message': 'To be fair to Hans....no o...</td>\n",
       "      <td>NaN</td>\n",
       "      <td>NaN</td>\n",
       "      <td>NaN</td>\n",
       "      <td>NaN</td>\n",
       "    </tr>\n",
       "    <tr>\n",
       "      <th>2</th>\n",
       "      <td>Chad Larson</td>\n",
       "      <td>1666373216381</td>\n",
       "      <td>He would have to prove he didn't cheat and tha...</td>\n",
       "      <td>[{'reaction': 'ð', 'actor': 'Scott Pence'},...</td>\n",
       "      <td>Generic</td>\n",
       "      <td>False</td>\n",
       "      <td>False</td>\n",
       "      <td>{'bumped_message': 'He would have to prove he ...</td>\n",
       "      <td>NaN</td>\n",
       "      <td>NaN</td>\n",
       "      <td>NaN</td>\n",
       "      <td>NaN</td>\n",
       "    </tr>\n",
       "    <tr>\n",
       "      <th>3</th>\n",
       "      <td>Scott Pence</td>\n",
       "      <td>1666373164883</td>\n",
       "      <td>Yeah, no way. You over shoot and hope to get a...</td>\n",
       "      <td>[{'reaction': 'ð', 'actor': 'Chad Larson'},...</td>\n",
       "      <td>Generic</td>\n",
       "      <td>False</td>\n",
       "      <td>False</td>\n",
       "      <td>{'bumped_message': 'Yeah, no way. You over sho...</td>\n",
       "      <td>NaN</td>\n",
       "      <td>NaN</td>\n",
       "      <td>NaN</td>\n",
       "      <td>NaN</td>\n",
       "    </tr>\n",
       "    <tr>\n",
       "      <th>4</th>\n",
       "      <td>Chad Larson</td>\n",
       "      <td>1666373111157</td>\n",
       "      <td>From what I see, I don't think he could win.  ...</td>\n",
       "      <td>NaN</td>\n",
       "      <td>Generic</td>\n",
       "      <td>False</td>\n",
       "      <td>False</td>\n",
       "      <td>{'bumped_message': 'From what I see, I don't t...</td>\n",
       "      <td>NaN</td>\n",
       "      <td>NaN</td>\n",
       "      <td>NaN</td>\n",
       "      <td>NaN</td>\n",
       "    </tr>\n",
       "  </tbody>\n",
       "</table>\n",
       "</div>"
      ],
      "text/plain": [
       "    sender_name   timestamp_ms  \\\n",
       "0  Joanna Rusch  1666374933946   \n",
       "1   Chad Larson  1666373448613   \n",
       "2   Chad Larson  1666373216381   \n",
       "3   Scott Pence  1666373164883   \n",
       "4   Chad Larson  1666373111157   \n",
       "\n",
       "                                             content  \\\n",
       "0  Maybe he just wants to ride the publicity for ...   \n",
       "1  To be fair to Hans....no one wants to be assoc...   \n",
       "2  He would have to prove he didn't cheat and tha...   \n",
       "3  Yeah, no way. You over shoot and hope to get a...   \n",
       "4  From what I see, I don't think he could win.  ...   \n",
       "\n",
       "                                           reactions     type  is_unsent  \\\n",
       "0  [{'reaction': 'ð', 'actor': 'Chad Larson'},...  Generic      False   \n",
       "1  [{'reaction': 'ð', 'actor': 'Scott Pence'},...  Generic      False   \n",
       "2  [{'reaction': 'ð', 'actor': 'Scott Pence'},...  Generic      False   \n",
       "3  [{'reaction': 'ð', 'actor': 'Chad Larson'},...  Generic      False   \n",
       "4                                                NaN  Generic      False   \n",
       "\n",
       "   is_taken_down                            bumped_message_metadata share  \\\n",
       "0          False  {'bumped_message': 'Maybe he just wants to rid...   NaN   \n",
       "1          False  {'bumped_message': 'To be fair to Hans....no o...   NaN   \n",
       "2          False  {'bumped_message': 'He would have to prove he ...   NaN   \n",
       "3          False  {'bumped_message': 'Yeah, no way. You over sho...   NaN   \n",
       "4          False  {'bumped_message': 'From what I see, I don't t...   NaN   \n",
       "\n",
       "  photos gifs users  \n",
       "0    NaN  NaN   NaN  \n",
       "1    NaN  NaN   NaN  \n",
       "2    NaN  NaN   NaN  \n",
       "3    NaN  NaN   NaN  \n",
       "4    NaN  NaN   NaN  "
      ]
     },
     "execution_count": 322,
     "metadata": {},
     "output_type": "execute_result"
    }
   ],
   "source": [
    "cb_m_df = pd.DataFrame(chess_buds['messages'])\n",
    "cb_m_df.head()"
   ]
  },
  {
   "cell_type": "markdown",
   "id": "ca4854c6-8724-47eb-a207-054020ecc90c",
   "metadata": {},
   "source": [
    "# Converting timestamps to datetime\n",
    "**I converted a column of timestamp_ms from milliseconds to a readable datetime format, then splitted it into date and time, and added them as new columns to 'cb_m_df'.**"
   ]
  },
  {
   "cell_type": "code",
   "execution_count": 345,
   "id": "9cb74fe6-cc06-4176-b930-939612b360ff",
   "metadata": {},
   "outputs": [
    {
     "data": {
      "text/html": [
       "<div>\n",
       "<style scoped>\n",
       "    .dataframe tbody tr th:only-of-type {\n",
       "        vertical-align: middle;\n",
       "    }\n",
       "\n",
       "    .dataframe tbody tr th {\n",
       "        vertical-align: top;\n",
       "    }\n",
       "\n",
       "    .dataframe thead th {\n",
       "        text-align: right;\n",
       "    }\n",
       "</style>\n",
       "<table border=\"1\" class=\"dataframe\">\n",
       "  <thead>\n",
       "    <tr style=\"text-align: right;\">\n",
       "      <th></th>\n",
       "      <th>sender_name</th>\n",
       "      <th>timestamp_ms</th>\n",
       "      <th>content</th>\n",
       "      <th>reactions</th>\n",
       "      <th>type</th>\n",
       "      <th>is_unsent</th>\n",
       "      <th>is_taken_down</th>\n",
       "      <th>bumped_message_metadata</th>\n",
       "      <th>share</th>\n",
       "      <th>photos</th>\n",
       "      <th>gifs</th>\n",
       "      <th>users</th>\n",
       "      <th>full_datetime</th>\n",
       "      <th>date</th>\n",
       "      <th>time</th>\n",
       "    </tr>\n",
       "  </thead>\n",
       "  <tbody>\n",
       "    <tr>\n",
       "      <th>0</th>\n",
       "      <td>Joanna Rusch</td>\n",
       "      <td>1666374933946</td>\n",
       "      <td>Maybe he just wants to ride the publicity for ...</td>\n",
       "      <td>[{'reaction': 'ð', 'actor': 'Chad Larson'},...</td>\n",
       "      <td>Generic</td>\n",
       "      <td>False</td>\n",
       "      <td>False</td>\n",
       "      <td>{'bumped_message': 'Maybe he just wants to rid...</td>\n",
       "      <td>NaN</td>\n",
       "      <td>NaN</td>\n",
       "      <td>NaN</td>\n",
       "      <td>NaN</td>\n",
       "      <td>2022-10-21 17:55:33.946</td>\n",
       "      <td>2022-10-21</td>\n",
       "      <td>17:55:33</td>\n",
       "    </tr>\n",
       "    <tr>\n",
       "      <th>1</th>\n",
       "      <td>Chad Larson</td>\n",
       "      <td>1666373448613</td>\n",
       "      <td>To be fair to Hans....no one wants to be assoc...</td>\n",
       "      <td>[{'reaction': 'ð', 'actor': 'Scott Pence'},...</td>\n",
       "      <td>Generic</td>\n",
       "      <td>False</td>\n",
       "      <td>False</td>\n",
       "      <td>{'bumped_message': 'To be fair to Hans....no o...</td>\n",
       "      <td>NaN</td>\n",
       "      <td>NaN</td>\n",
       "      <td>NaN</td>\n",
       "      <td>NaN</td>\n",
       "      <td>2022-10-21 17:30:48.613</td>\n",
       "      <td>2022-10-21</td>\n",
       "      <td>17:30:48</td>\n",
       "    </tr>\n",
       "    <tr>\n",
       "      <th>2</th>\n",
       "      <td>Chad Larson</td>\n",
       "      <td>1666373216381</td>\n",
       "      <td>He would have to prove he didn't cheat and tha...</td>\n",
       "      <td>[{'reaction': 'ð', 'actor': 'Scott Pence'},...</td>\n",
       "      <td>Generic</td>\n",
       "      <td>False</td>\n",
       "      <td>False</td>\n",
       "      <td>{'bumped_message': 'He would have to prove he ...</td>\n",
       "      <td>NaN</td>\n",
       "      <td>NaN</td>\n",
       "      <td>NaN</td>\n",
       "      <td>NaN</td>\n",
       "      <td>2022-10-21 17:26:56.381</td>\n",
       "      <td>2022-10-21</td>\n",
       "      <td>17:26:56</td>\n",
       "    </tr>\n",
       "    <tr>\n",
       "      <th>3</th>\n",
       "      <td>Scott Pence</td>\n",
       "      <td>1666373164883</td>\n",
       "      <td>Yeah, no way. You over shoot and hope to get a...</td>\n",
       "      <td>[{'reaction': 'ð', 'actor': 'Chad Larson'},...</td>\n",
       "      <td>Generic</td>\n",
       "      <td>False</td>\n",
       "      <td>False</td>\n",
       "      <td>{'bumped_message': 'Yeah, no way. You over sho...</td>\n",
       "      <td>NaN</td>\n",
       "      <td>NaN</td>\n",
       "      <td>NaN</td>\n",
       "      <td>NaN</td>\n",
       "      <td>2022-10-21 17:26:04.883</td>\n",
       "      <td>2022-10-21</td>\n",
       "      <td>17:26:04</td>\n",
       "    </tr>\n",
       "    <tr>\n",
       "      <th>4</th>\n",
       "      <td>Chad Larson</td>\n",
       "      <td>1666373111157</td>\n",
       "      <td>From what I see, I don't think he could win.  ...</td>\n",
       "      <td>NaN</td>\n",
       "      <td>Generic</td>\n",
       "      <td>False</td>\n",
       "      <td>False</td>\n",
       "      <td>{'bumped_message': 'From what I see, I don't t...</td>\n",
       "      <td>NaN</td>\n",
       "      <td>NaN</td>\n",
       "      <td>NaN</td>\n",
       "      <td>NaN</td>\n",
       "      <td>2022-10-21 17:25:11.157</td>\n",
       "      <td>2022-10-21</td>\n",
       "      <td>17:25:11</td>\n",
       "    </tr>\n",
       "  </tbody>\n",
       "</table>\n",
       "</div>"
      ],
      "text/plain": [
       "    sender_name   timestamp_ms  \\\n",
       "0  Joanna Rusch  1666374933946   \n",
       "1   Chad Larson  1666373448613   \n",
       "2   Chad Larson  1666373216381   \n",
       "3   Scott Pence  1666373164883   \n",
       "4   Chad Larson  1666373111157   \n",
       "\n",
       "                                             content  \\\n",
       "0  Maybe he just wants to ride the publicity for ...   \n",
       "1  To be fair to Hans....no one wants to be assoc...   \n",
       "2  He would have to prove he didn't cheat and tha...   \n",
       "3  Yeah, no way. You over shoot and hope to get a...   \n",
       "4  From what I see, I don't think he could win.  ...   \n",
       "\n",
       "                                           reactions     type  is_unsent  \\\n",
       "0  [{'reaction': 'ð', 'actor': 'Chad Larson'},...  Generic      False   \n",
       "1  [{'reaction': 'ð', 'actor': 'Scott Pence'},...  Generic      False   \n",
       "2  [{'reaction': 'ð', 'actor': 'Scott Pence'},...  Generic      False   \n",
       "3  [{'reaction': 'ð', 'actor': 'Chad Larson'},...  Generic      False   \n",
       "4                                                NaN  Generic      False   \n",
       "\n",
       "   is_taken_down                            bumped_message_metadata share  \\\n",
       "0          False  {'bumped_message': 'Maybe he just wants to rid...   NaN   \n",
       "1          False  {'bumped_message': 'To be fair to Hans....no o...   NaN   \n",
       "2          False  {'bumped_message': 'He would have to prove he ...   NaN   \n",
       "3          False  {'bumped_message': 'Yeah, no way. You over sho...   NaN   \n",
       "4          False  {'bumped_message': 'From what I see, I don't t...   NaN   \n",
       "\n",
       "  photos gifs users           full_datetime        date      time  \n",
       "0    NaN  NaN   NaN 2022-10-21 17:55:33.946  2022-10-21  17:55:33  \n",
       "1    NaN  NaN   NaN 2022-10-21 17:30:48.613  2022-10-21  17:30:48  \n",
       "2    NaN  NaN   NaN 2022-10-21 17:26:56.381  2022-10-21  17:26:56  \n",
       "3    NaN  NaN   NaN 2022-10-21 17:26:04.883  2022-10-21  17:26:04  \n",
       "4    NaN  NaN   NaN 2022-10-21 17:25:11.157  2022-10-21  17:25:11  "
      ]
     },
     "execution_count": 345,
     "metadata": {},
     "output_type": "execute_result"
    }
   ],
   "source": [
    "def convert_timestamps(df, timestamp_column = 'timestamp_ms'):\n",
    "    df['full_datetime'] = pd.to_datetime(df[timestamp_column], unit='ms')\n",
    "    df['date'] = df['full_datetime'].dt.date\n",
    "    df['time'] = df['full_datetime'].dt.strftime('%H:%M:%S')\n",
    "    return df\n",
    "cb_m_df = convert_timestamps(cb_m_df)\n",
    "cb_m_df.head()"
   ]
  },
  {
   "cell_type": "markdown",
   "id": "ee98ec37-0867-4e8a-b475-1ff075a464f1",
   "metadata": {},
   "source": [
    "**I first checked the type of 'reactions' in the unit and confirmed that it was a structured as a list with the nested data - 'reaction' and 'actor'. Next, I iterated over the 'reactions' column and helped me find out what information ('reaction', 'actor', and 'NaN') was available comprehensively. For a simpler numeric summary per reaction, I decided to quantify the engagement each message received and focus primarily on the number of reactions. Specifically, I flattened 'reactions' into a list of lists, which each contained 'reaction', and then countered the number of reactions for each message.**"
   ]
  },
  {
   "cell_type": "code",
   "execution_count": 275,
   "id": "6f57a609-0b8b-439b-86b5-f28d226cac84",
   "metadata": {},
   "outputs": [
    {
     "data": {
      "text/plain": [
       "list"
      ]
     },
     "execution_count": 275,
     "metadata": {},
     "output_type": "execute_result"
    }
   ],
   "source": [
    "type(cb_m_df['reactions'].iloc[0])"
   ]
  },
  {
   "cell_type": "code",
   "execution_count": 306,
   "id": "ed5b6487-f612-4ec0-9836-b3213d433fb9",
   "metadata": {},
   "outputs": [],
   "source": [
    "[x for x in cb_m_df['reactions']]\n",
    "#[x for x in cb_m_df['reactions'][0]]"
   ]
  },
  {
   "cell_type": "code",
   "execution_count": 323,
   "id": "9330befd-53c6-41a4-b859-45ac9bd5ec22",
   "metadata": {},
   "outputs": [
    {
     "data": {
      "text/plain": [
       "['ð\\x9f\\x91\\x8d', 'ð\\x9f\\x91\\x8d']"
      ]
     },
     "execution_count": 323,
     "metadata": {},
     "output_type": "execute_result"
    }
   ],
   "source": [
    "reactions = [x['reaction'] for x in cb_m_df['reactions'].iloc[0]]\n",
    "reactions\n",
    "#len(reactions)"
   ]
  },
  {
   "cell_type": "markdown",
   "id": "15de249e-e1e3-4e82-835b-7a17bcc4dec2",
   "metadata": {},
   "source": [
    "# Handling NA values\n",
    "**I knew there were NA values, which were not list formats. I asked GPT for help skip NA values. The prompt I used was how to iterate over a list without failing on NA values, and then they introduced isinstance() function.\n",
    "After that, I extracted 'reaction' from the original 'reactions' list and counted the number of reactions per message (setting NA value to zero). Then I created and merged new column named 'number_of_reactions' into the DataFrame 'cb_m_df'.**"
   ]
  },
  {
   "cell_type": "code",
   "execution_count": 346,
   "id": "01753dad-e77d-45dc-a5cd-8620cc8ed87c",
   "metadata": {},
   "outputs": [],
   "source": [
    "#if no nan values\n",
    "#reactions = [[y['reaction'] for y in x]\n",
    "#             for x in cb_m_df['reactions']]\n",
    "\n",
    "reactions = [[y['reaction'] for y in x] if isinstance(x, list) else []\n",
    "             for x in cb_m_df['reactions']]\n",
    "#reactions"
   ]
  },
  {
   "cell_type": "code",
   "execution_count": 347,
   "id": "4a114c8b-145e-4ab9-92ab-f90de33d42e9",
   "metadata": {},
   "outputs": [],
   "source": [
    "number_of_reactions = [len(x) if isinstance(x, list) else 0\n",
    "                       for x in reactions]\n",
    "#number_of_reactions"
   ]
  },
  {
   "cell_type": "code",
   "execution_count": 348,
   "id": "d2bce286-8707-4dc8-8ddd-3c0f1161b094",
   "metadata": {},
   "outputs": [
    {
     "data": {
      "text/html": [
       "<div>\n",
       "<style scoped>\n",
       "    .dataframe tbody tr th:only-of-type {\n",
       "        vertical-align: middle;\n",
       "    }\n",
       "\n",
       "    .dataframe tbody tr th {\n",
       "        vertical-align: top;\n",
       "    }\n",
       "\n",
       "    .dataframe thead th {\n",
       "        text-align: right;\n",
       "    }\n",
       "</style>\n",
       "<table border=\"1\" class=\"dataframe\">\n",
       "  <thead>\n",
       "    <tr style=\"text-align: right;\">\n",
       "      <th></th>\n",
       "      <th>sender_name</th>\n",
       "      <th>timestamp_ms</th>\n",
       "      <th>content</th>\n",
       "      <th>reactions</th>\n",
       "      <th>type</th>\n",
       "      <th>is_unsent</th>\n",
       "      <th>is_taken_down</th>\n",
       "      <th>bumped_message_metadata</th>\n",
       "      <th>share</th>\n",
       "      <th>photos</th>\n",
       "      <th>gifs</th>\n",
       "      <th>users</th>\n",
       "      <th>full_datetime</th>\n",
       "      <th>date</th>\n",
       "      <th>time</th>\n",
       "      <th>number_of_reactions</th>\n",
       "    </tr>\n",
       "  </thead>\n",
       "  <tbody>\n",
       "    <tr>\n",
       "      <th>0</th>\n",
       "      <td>Joanna Rusch</td>\n",
       "      <td>1666374933946</td>\n",
       "      <td>Maybe he just wants to ride the publicity for ...</td>\n",
       "      <td>[{'reaction': 'ð', 'actor': 'Chad Larson'},...</td>\n",
       "      <td>Generic</td>\n",
       "      <td>False</td>\n",
       "      <td>False</td>\n",
       "      <td>{'bumped_message': 'Maybe he just wants to rid...</td>\n",
       "      <td>NaN</td>\n",
       "      <td>NaN</td>\n",
       "      <td>NaN</td>\n",
       "      <td>NaN</td>\n",
       "      <td>2022-10-21 17:55:33.946</td>\n",
       "      <td>2022-10-21</td>\n",
       "      <td>17:55:33</td>\n",
       "      <td>2</td>\n",
       "    </tr>\n",
       "    <tr>\n",
       "      <th>1</th>\n",
       "      <td>Chad Larson</td>\n",
       "      <td>1666373448613</td>\n",
       "      <td>To be fair to Hans....no one wants to be assoc...</td>\n",
       "      <td>[{'reaction': 'ð', 'actor': 'Scott Pence'},...</td>\n",
       "      <td>Generic</td>\n",
       "      <td>False</td>\n",
       "      <td>False</td>\n",
       "      <td>{'bumped_message': 'To be fair to Hans....no o...</td>\n",
       "      <td>NaN</td>\n",
       "      <td>NaN</td>\n",
       "      <td>NaN</td>\n",
       "      <td>NaN</td>\n",
       "      <td>2022-10-21 17:30:48.613</td>\n",
       "      <td>2022-10-21</td>\n",
       "      <td>17:30:48</td>\n",
       "      <td>2</td>\n",
       "    </tr>\n",
       "    <tr>\n",
       "      <th>2</th>\n",
       "      <td>Chad Larson</td>\n",
       "      <td>1666373216381</td>\n",
       "      <td>He would have to prove he didn't cheat and tha...</td>\n",
       "      <td>[{'reaction': 'ð', 'actor': 'Scott Pence'},...</td>\n",
       "      <td>Generic</td>\n",
       "      <td>False</td>\n",
       "      <td>False</td>\n",
       "      <td>{'bumped_message': 'He would have to prove he ...</td>\n",
       "      <td>NaN</td>\n",
       "      <td>NaN</td>\n",
       "      <td>NaN</td>\n",
       "      <td>NaN</td>\n",
       "      <td>2022-10-21 17:26:56.381</td>\n",
       "      <td>2022-10-21</td>\n",
       "      <td>17:26:56</td>\n",
       "      <td>2</td>\n",
       "    </tr>\n",
       "    <tr>\n",
       "      <th>3</th>\n",
       "      <td>Scott Pence</td>\n",
       "      <td>1666373164883</td>\n",
       "      <td>Yeah, no way. You over shoot and hope to get a...</td>\n",
       "      <td>[{'reaction': 'ð', 'actor': 'Chad Larson'},...</td>\n",
       "      <td>Generic</td>\n",
       "      <td>False</td>\n",
       "      <td>False</td>\n",
       "      <td>{'bumped_message': 'Yeah, no way. You over sho...</td>\n",
       "      <td>NaN</td>\n",
       "      <td>NaN</td>\n",
       "      <td>NaN</td>\n",
       "      <td>NaN</td>\n",
       "      <td>2022-10-21 17:26:04.883</td>\n",
       "      <td>2022-10-21</td>\n",
       "      <td>17:26:04</td>\n",
       "      <td>2</td>\n",
       "    </tr>\n",
       "    <tr>\n",
       "      <th>4</th>\n",
       "      <td>Chad Larson</td>\n",
       "      <td>1666373111157</td>\n",
       "      <td>From what I see, I don't think he could win.  ...</td>\n",
       "      <td>NaN</td>\n",
       "      <td>Generic</td>\n",
       "      <td>False</td>\n",
       "      <td>False</td>\n",
       "      <td>{'bumped_message': 'From what I see, I don't t...</td>\n",
       "      <td>NaN</td>\n",
       "      <td>NaN</td>\n",
       "      <td>NaN</td>\n",
       "      <td>NaN</td>\n",
       "      <td>2022-10-21 17:25:11.157</td>\n",
       "      <td>2022-10-21</td>\n",
       "      <td>17:25:11</td>\n",
       "      <td>0</td>\n",
       "    </tr>\n",
       "  </tbody>\n",
       "</table>\n",
       "</div>"
      ],
      "text/plain": [
       "    sender_name   timestamp_ms  \\\n",
       "0  Joanna Rusch  1666374933946   \n",
       "1   Chad Larson  1666373448613   \n",
       "2   Chad Larson  1666373216381   \n",
       "3   Scott Pence  1666373164883   \n",
       "4   Chad Larson  1666373111157   \n",
       "\n",
       "                                             content  \\\n",
       "0  Maybe he just wants to ride the publicity for ...   \n",
       "1  To be fair to Hans....no one wants to be assoc...   \n",
       "2  He would have to prove he didn't cheat and tha...   \n",
       "3  Yeah, no way. You over shoot and hope to get a...   \n",
       "4  From what I see, I don't think he could win.  ...   \n",
       "\n",
       "                                           reactions     type  is_unsent  \\\n",
       "0  [{'reaction': 'ð', 'actor': 'Chad Larson'},...  Generic      False   \n",
       "1  [{'reaction': 'ð', 'actor': 'Scott Pence'},...  Generic      False   \n",
       "2  [{'reaction': 'ð', 'actor': 'Scott Pence'},...  Generic      False   \n",
       "3  [{'reaction': 'ð', 'actor': 'Chad Larson'},...  Generic      False   \n",
       "4                                                NaN  Generic      False   \n",
       "\n",
       "   is_taken_down                            bumped_message_metadata share  \\\n",
       "0          False  {'bumped_message': 'Maybe he just wants to rid...   NaN   \n",
       "1          False  {'bumped_message': 'To be fair to Hans....no o...   NaN   \n",
       "2          False  {'bumped_message': 'He would have to prove he ...   NaN   \n",
       "3          False  {'bumped_message': 'Yeah, no way. You over sho...   NaN   \n",
       "4          False  {'bumped_message': 'From what I see, I don't t...   NaN   \n",
       "\n",
       "  photos gifs users           full_datetime        date      time  \\\n",
       "0    NaN  NaN   NaN 2022-10-21 17:55:33.946  2022-10-21  17:55:33   \n",
       "1    NaN  NaN   NaN 2022-10-21 17:30:48.613  2022-10-21  17:30:48   \n",
       "2    NaN  NaN   NaN 2022-10-21 17:26:56.381  2022-10-21  17:26:56   \n",
       "3    NaN  NaN   NaN 2022-10-21 17:26:04.883  2022-10-21  17:26:04   \n",
       "4    NaN  NaN   NaN 2022-10-21 17:25:11.157  2022-10-21  17:25:11   \n",
       "\n",
       "   number_of_reactions  \n",
       "0                    2  \n",
       "1                    2  \n",
       "2                    2  \n",
       "3                    2  \n",
       "4                    0  "
      ]
     },
     "execution_count": 348,
     "metadata": {},
     "output_type": "execute_result"
    }
   ],
   "source": [
    "cb_m_df['number_of_reactions'] = number_of_reactions\n",
    "cb_m_df.head()"
   ]
  },
  {
   "cell_type": "markdown",
   "id": "491300db-3342-45c7-9979-8791554de499",
   "metadata": {},
   "source": [
    "**I then checked the type of 'bumped_message_metadata' and confirmed that it was a structured as a dict with the nested data - 'bumped_message' and 'is_bumped'. To clarity of data handling, I decided to extracted 'bumped_message' and 'is_bumped' and represent them as seperate columns in 'cb_m_df'. However, I found out the text contents of 'bumped_message' were the same as of 'content', so I would drop the 'bumped_message' data.**"
   ]
  },
  {
   "cell_type": "code",
   "execution_count": 327,
   "id": "3e0c5bb5-ce4d-439f-bfee-fd982b509a28",
   "metadata": {},
   "outputs": [
    {
     "data": {
      "text/plain": [
       "dict"
      ]
     },
     "execution_count": 327,
     "metadata": {},
     "output_type": "execute_result"
    }
   ],
   "source": [
    "type(cb_m_df['bumped_message_metadata'].iloc[0])"
   ]
  },
  {
   "cell_type": "code",
   "execution_count": 331,
   "id": "8a2a8904-73d3-48e6-a10b-8ebc6c78689f",
   "metadata": {},
   "outputs": [],
   "source": [
    "#[x for x in cb_m_df['bumped_message_metadata'][0]]\n",
    "#cb_m_df['bumped_message_metadata']\n",
    "[x for x in cb_m_df['bumped_message_metadata']]"
   ]
  },
  {
   "cell_type": "code",
   "execution_count": 349,
   "id": "c87812db-a5d7-4025-81d4-1712bb619196",
   "metadata": {},
   "outputs": [
    {
     "data": {
      "text/html": [
       "<div>\n",
       "<style scoped>\n",
       "    .dataframe tbody tr th:only-of-type {\n",
       "        vertical-align: middle;\n",
       "    }\n",
       "\n",
       "    .dataframe tbody tr th {\n",
       "        vertical-align: top;\n",
       "    }\n",
       "\n",
       "    .dataframe thead th {\n",
       "        text-align: right;\n",
       "    }\n",
       "</style>\n",
       "<table border=\"1\" class=\"dataframe\">\n",
       "  <thead>\n",
       "    <tr style=\"text-align: right;\">\n",
       "      <th></th>\n",
       "      <th>sender_name</th>\n",
       "      <th>timestamp_ms</th>\n",
       "      <th>content</th>\n",
       "      <th>reactions</th>\n",
       "      <th>type</th>\n",
       "      <th>is_unsent</th>\n",
       "      <th>is_taken_down</th>\n",
       "      <th>bumped_message_metadata</th>\n",
       "      <th>share</th>\n",
       "      <th>photos</th>\n",
       "      <th>gifs</th>\n",
       "      <th>users</th>\n",
       "      <th>full_datetime</th>\n",
       "      <th>date</th>\n",
       "      <th>time</th>\n",
       "      <th>number_of_reactions</th>\n",
       "      <th>is_bumped</th>\n",
       "    </tr>\n",
       "  </thead>\n",
       "  <tbody>\n",
       "    <tr>\n",
       "      <th>0</th>\n",
       "      <td>Joanna Rusch</td>\n",
       "      <td>1666374933946</td>\n",
       "      <td>Maybe he just wants to ride the publicity for ...</td>\n",
       "      <td>[{'reaction': 'ð', 'actor': 'Chad Larson'},...</td>\n",
       "      <td>Generic</td>\n",
       "      <td>False</td>\n",
       "      <td>False</td>\n",
       "      <td>{'bumped_message': 'Maybe he just wants to rid...</td>\n",
       "      <td>NaN</td>\n",
       "      <td>NaN</td>\n",
       "      <td>NaN</td>\n",
       "      <td>NaN</td>\n",
       "      <td>2022-10-21 17:55:33.946</td>\n",
       "      <td>2022-10-21</td>\n",
       "      <td>17:55:33</td>\n",
       "      <td>2</td>\n",
       "      <td>False</td>\n",
       "    </tr>\n",
       "    <tr>\n",
       "      <th>1</th>\n",
       "      <td>Chad Larson</td>\n",
       "      <td>1666373448613</td>\n",
       "      <td>To be fair to Hans....no one wants to be assoc...</td>\n",
       "      <td>[{'reaction': 'ð', 'actor': 'Scott Pence'},...</td>\n",
       "      <td>Generic</td>\n",
       "      <td>False</td>\n",
       "      <td>False</td>\n",
       "      <td>{'bumped_message': 'To be fair to Hans....no o...</td>\n",
       "      <td>NaN</td>\n",
       "      <td>NaN</td>\n",
       "      <td>NaN</td>\n",
       "      <td>NaN</td>\n",
       "      <td>2022-10-21 17:30:48.613</td>\n",
       "      <td>2022-10-21</td>\n",
       "      <td>17:30:48</td>\n",
       "      <td>2</td>\n",
       "      <td>False</td>\n",
       "    </tr>\n",
       "    <tr>\n",
       "      <th>2</th>\n",
       "      <td>Chad Larson</td>\n",
       "      <td>1666373216381</td>\n",
       "      <td>He would have to prove he didn't cheat and tha...</td>\n",
       "      <td>[{'reaction': 'ð', 'actor': 'Scott Pence'},...</td>\n",
       "      <td>Generic</td>\n",
       "      <td>False</td>\n",
       "      <td>False</td>\n",
       "      <td>{'bumped_message': 'He would have to prove he ...</td>\n",
       "      <td>NaN</td>\n",
       "      <td>NaN</td>\n",
       "      <td>NaN</td>\n",
       "      <td>NaN</td>\n",
       "      <td>2022-10-21 17:26:56.381</td>\n",
       "      <td>2022-10-21</td>\n",
       "      <td>17:26:56</td>\n",
       "      <td>2</td>\n",
       "      <td>False</td>\n",
       "    </tr>\n",
       "    <tr>\n",
       "      <th>3</th>\n",
       "      <td>Scott Pence</td>\n",
       "      <td>1666373164883</td>\n",
       "      <td>Yeah, no way. You over shoot and hope to get a...</td>\n",
       "      <td>[{'reaction': 'ð', 'actor': 'Chad Larson'},...</td>\n",
       "      <td>Generic</td>\n",
       "      <td>False</td>\n",
       "      <td>False</td>\n",
       "      <td>{'bumped_message': 'Yeah, no way. You over sho...</td>\n",
       "      <td>NaN</td>\n",
       "      <td>NaN</td>\n",
       "      <td>NaN</td>\n",
       "      <td>NaN</td>\n",
       "      <td>2022-10-21 17:26:04.883</td>\n",
       "      <td>2022-10-21</td>\n",
       "      <td>17:26:04</td>\n",
       "      <td>2</td>\n",
       "      <td>False</td>\n",
       "    </tr>\n",
       "    <tr>\n",
       "      <th>4</th>\n",
       "      <td>Chad Larson</td>\n",
       "      <td>1666373111157</td>\n",
       "      <td>From what I see, I don't think he could win.  ...</td>\n",
       "      <td>NaN</td>\n",
       "      <td>Generic</td>\n",
       "      <td>False</td>\n",
       "      <td>False</td>\n",
       "      <td>{'bumped_message': 'From what I see, I don't t...</td>\n",
       "      <td>NaN</td>\n",
       "      <td>NaN</td>\n",
       "      <td>NaN</td>\n",
       "      <td>NaN</td>\n",
       "      <td>2022-10-21 17:25:11.157</td>\n",
       "      <td>2022-10-21</td>\n",
       "      <td>17:25:11</td>\n",
       "      <td>0</td>\n",
       "      <td>False</td>\n",
       "    </tr>\n",
       "  </tbody>\n",
       "</table>\n",
       "</div>"
      ],
      "text/plain": [
       "    sender_name   timestamp_ms  \\\n",
       "0  Joanna Rusch  1666374933946   \n",
       "1   Chad Larson  1666373448613   \n",
       "2   Chad Larson  1666373216381   \n",
       "3   Scott Pence  1666373164883   \n",
       "4   Chad Larson  1666373111157   \n",
       "\n",
       "                                             content  \\\n",
       "0  Maybe he just wants to ride the publicity for ...   \n",
       "1  To be fair to Hans....no one wants to be assoc...   \n",
       "2  He would have to prove he didn't cheat and tha...   \n",
       "3  Yeah, no way. You over shoot and hope to get a...   \n",
       "4  From what I see, I don't think he could win.  ...   \n",
       "\n",
       "                                           reactions     type  is_unsent  \\\n",
       "0  [{'reaction': 'ð', 'actor': 'Chad Larson'},...  Generic      False   \n",
       "1  [{'reaction': 'ð', 'actor': 'Scott Pence'},...  Generic      False   \n",
       "2  [{'reaction': 'ð', 'actor': 'Scott Pence'},...  Generic      False   \n",
       "3  [{'reaction': 'ð', 'actor': 'Chad Larson'},...  Generic      False   \n",
       "4                                                NaN  Generic      False   \n",
       "\n",
       "   is_taken_down                            bumped_message_metadata share  \\\n",
       "0          False  {'bumped_message': 'Maybe he just wants to rid...   NaN   \n",
       "1          False  {'bumped_message': 'To be fair to Hans....no o...   NaN   \n",
       "2          False  {'bumped_message': 'He would have to prove he ...   NaN   \n",
       "3          False  {'bumped_message': 'Yeah, no way. You over sho...   NaN   \n",
       "4          False  {'bumped_message': 'From what I see, I don't t...   NaN   \n",
       "\n",
       "  photos gifs users           full_datetime        date      time  \\\n",
       "0    NaN  NaN   NaN 2022-10-21 17:55:33.946  2022-10-21  17:55:33   \n",
       "1    NaN  NaN   NaN 2022-10-21 17:30:48.613  2022-10-21  17:30:48   \n",
       "2    NaN  NaN   NaN 2022-10-21 17:26:56.381  2022-10-21  17:26:56   \n",
       "3    NaN  NaN   NaN 2022-10-21 17:26:04.883  2022-10-21  17:26:04   \n",
       "4    NaN  NaN   NaN 2022-10-21 17:25:11.157  2022-10-21  17:25:11   \n",
       "\n",
       "   number_of_reactions  is_bumped   \n",
       "0                    2       False  \n",
       "1                    2       False  \n",
       "2                    2       False  \n",
       "3                    2       False  \n",
       "4                    0       False  "
      ]
     },
     "execution_count": 349,
     "metadata": {},
     "output_type": "execute_result"
    }
   ],
   "source": [
    "is_bumped = [x['is_bumped'] for x in cb_m_df['bumped_message_metadata']]\n",
    "cb_m_df['is_bumped '] = is_bumped\n",
    "#is_bumped\n",
    "cb_m_df.head()"
   ]
  },
  {
   "cell_type": "code",
   "execution_count": 314,
   "id": "dc0865af-58c2-4fe0-9ce7-85d2d4abe290",
   "metadata": {},
   "outputs": [],
   "source": [
    "#bumped_message = [x['bumped_message'] if isinstance(x, dict) and 'bumped_message' in x else np.nan\n",
    "#                    for x in cb_m_df['bumped_message_metadata']\n",
    "#                    ]\n",
    "#cb_m_df['bumped_message '] = bumped_message \n",
    "#cb_m_df.head()"
   ]
  },
  {
   "cell_type": "markdown",
   "id": "2d8c3e35-4234-4876-888d-0b855f8a2f20",
   "metadata": {},
   "source": [
    "# Alterative tidy format\n",
    "**I noticed that the majority of the columns for 'share', 'photos', 'gifs', 'users' contain NaN values. However, to ensure data objective, I checked the number of non-NaN entries in each column (20, 14, 16, 4). There were a total of 223 rows in this DataFrame, and the highest proportion of valid entries in 'share' column did not even reach 9%. While my decision was to keep and clean entries in these columns for data integrity, alternative tidy format is to delete these variables as their valid values do not reach a threshold of 10%.**"
   ]
  },
  {
   "cell_type": "markdown",
   "id": "80333bc8-8095-4ad1-9efd-358186e2fc33",
   "metadata": {},
   "source": [
    "# Handling variables of 'gifs', 'share','users', 'photos'\n",
    "**My strategies were to extract essential contents without keys.**"
   ]
  },
  {
   "cell_type": "code",
   "execution_count": 118,
   "id": "0a708dcb-a12d-4787-a8cf-a6bb02047c5f",
   "metadata": {},
   "outputs": [
    {
     "data": {
      "text/plain": [
       "np.int64(16)"
      ]
     },
     "execution_count": 118,
     "metadata": {},
     "output_type": "execute_result"
    }
   ],
   "source": [
    "not_na_gifs = cb_m_df['gifs'].notna()\n",
    "count_not_na_gifs = not_na_gifs.sum()\n",
    "count_not_na_gifs"
   ]
  },
  {
   "cell_type": "code",
   "execution_count": 287,
   "id": "a200863d-a724-42d4-b1ca-d1a4147902f5",
   "metadata": {},
   "outputs": [
    {
     "data": {
      "text/plain": [
       "[{'uri': 'messages/inbox/chessbuds_npjakt9u1g/gifs/271509378_440207271109794_8171423686120017391_n_1734383773606976.gif'}]"
      ]
     },
     "execution_count": 287,
     "metadata": {},
     "output_type": "execute_result"
    }
   ],
   "source": [
    "non_nan_gifs_df = cb_m_df[not_na_gifs]\n",
    "non_nan_gifs_df['gifs'].iloc[0]\n",
    "#[x for x in cb_m_df['gifs']]"
   ]
  },
  {
   "cell_type": "code",
   "execution_count": 350,
   "id": "ef9d96a6-0289-4306-9ed4-74e84717626e",
   "metadata": {},
   "outputs": [],
   "source": [
    "gifs_2 = [x[0]['uri'] if isinstance(x, list) and len(x) > 0 else x for x in cb_m_df['gifs']]\n",
    "#gifs_2\n",
    "cb_m_df['gifs_2'] = gifs_2"
   ]
  },
  {
   "cell_type": "code",
   "execution_count": 310,
   "id": "6d4a4f88-c5d4-4e4a-bdca-e6a980658c18",
   "metadata": {},
   "outputs": [],
   "source": [
    "#[x for x in cb_m_df['share']]"
   ]
  },
  {
   "cell_type": "code",
   "execution_count": 134,
   "id": "e16db2f4-24db-4e48-b275-3cc6fa8a1d69",
   "metadata": {},
   "outputs": [
    {
     "data": {
      "text/plain": [
       "np.int64(20)"
      ]
     },
     "execution_count": 134,
     "metadata": {},
     "output_type": "execute_result"
    }
   ],
   "source": [
    "not_na_share = cb_m_df['share'].notna()\n",
    "count_not_na_share = not_na_share.sum()\n",
    "count_not_na_share\n",
    "#non_nan_share_df = cb_m_df[not_na_share]\n",
    "#non_nan_share_df"
   ]
  },
  {
   "cell_type": "code",
   "execution_count": 351,
   "id": "d9709088-ba8b-4c6b-a035-5d40d90f2750",
   "metadata": {},
   "outputs": [],
   "source": [
    "share_2 = [x['link'] if isinstance(x, dict) and 'link' in x else x for x in cb_m_df['share']]\n",
    "#share_2\n",
    "cb_m_df['share_2'] = share_2"
   ]
  },
  {
   "cell_type": "code",
   "execution_count": 128,
   "id": "bc3ac700-94eb-4d7d-839a-5be4e066e0f1",
   "metadata": {},
   "outputs": [
    {
     "data": {
      "text/plain": [
       "np.int64(4)"
      ]
     },
     "execution_count": 128,
     "metadata": {},
     "output_type": "execute_result"
    }
   ],
   "source": [
    "count_not_na_users = (cb_m_df['users'].notna()).sum()\n",
    "count_not_na_users"
   ]
  },
  {
   "cell_type": "code",
   "execution_count": 129,
   "id": "f666c22e-ce97-4c60-a4fd-7c77c117a7ed",
   "metadata": {},
   "outputs": [
    {
     "data": {
      "text/plain": [
       "np.int64(14)"
      ]
     },
     "execution_count": 129,
     "metadata": {},
     "output_type": "execute_result"
    }
   ],
   "source": [
    "count_not_na_photos = (cb_m_df['photos'].notna()).sum()\n",
    "count_not_na_photos"
   ]
  },
  {
   "cell_type": "code",
   "execution_count": 352,
   "id": "a3bc3e52-8f84-47a0-b4fa-19c0d27de28f",
   "metadata": {},
   "outputs": [],
   "source": [
    "#[x for x in cb_m_df['photos']]\n",
    "photos_2 = [x[0]['uri'] if isinstance(x, list) and x else x for x in cb_m_df['photos']]\n",
    "#photos_2\n",
    "cb_m_df['photos_2'] = photos_2"
   ]
  },
  {
   "cell_type": "code",
   "execution_count": 353,
   "id": "6c299309-376a-4508-b3ff-26f9605c0ca3",
   "metadata": {},
   "outputs": [],
   "source": [
    "#[x for x in cb_m_df['users']]\n",
    "users_2 = [x[0]['name'] if isinstance(x, list) and x else x for x in cb_m_df['users']]\n",
    "#users_2\n",
    "cb_m_df['users_2'] = users_2"
   ]
  },
  {
   "cell_type": "code",
   "execution_count": 354,
   "id": "7567f737-0418-4ec3-b3e5-bf80fc081be7",
   "metadata": {},
   "outputs": [
    {
     "data": {
      "text/html": [
       "<div>\n",
       "<style scoped>\n",
       "    .dataframe tbody tr th:only-of-type {\n",
       "        vertical-align: middle;\n",
       "    }\n",
       "\n",
       "    .dataframe tbody tr th {\n",
       "        vertical-align: top;\n",
       "    }\n",
       "\n",
       "    .dataframe thead th {\n",
       "        text-align: right;\n",
       "    }\n",
       "</style>\n",
       "<table border=\"1\" class=\"dataframe\">\n",
       "  <thead>\n",
       "    <tr style=\"text-align: right;\">\n",
       "      <th></th>\n",
       "      <th>sender_name</th>\n",
       "      <th>timestamp_ms</th>\n",
       "      <th>content</th>\n",
       "      <th>reactions</th>\n",
       "      <th>type</th>\n",
       "      <th>is_unsent</th>\n",
       "      <th>is_taken_down</th>\n",
       "      <th>bumped_message_metadata</th>\n",
       "      <th>share</th>\n",
       "      <th>photos</th>\n",
       "      <th>...</th>\n",
       "      <th>users</th>\n",
       "      <th>full_datetime</th>\n",
       "      <th>date</th>\n",
       "      <th>time</th>\n",
       "      <th>number_of_reactions</th>\n",
       "      <th>is_bumped</th>\n",
       "      <th>gifs_2</th>\n",
       "      <th>share_2</th>\n",
       "      <th>photos_2</th>\n",
       "      <th>users_2</th>\n",
       "    </tr>\n",
       "  </thead>\n",
       "  <tbody>\n",
       "    <tr>\n",
       "      <th>0</th>\n",
       "      <td>Joanna Rusch</td>\n",
       "      <td>1666374933946</td>\n",
       "      <td>Maybe he just wants to ride the publicity for ...</td>\n",
       "      <td>[{'reaction': 'ð', 'actor': 'Chad Larson'},...</td>\n",
       "      <td>Generic</td>\n",
       "      <td>False</td>\n",
       "      <td>False</td>\n",
       "      <td>{'bumped_message': 'Maybe he just wants to rid...</td>\n",
       "      <td>NaN</td>\n",
       "      <td>NaN</td>\n",
       "      <td>...</td>\n",
       "      <td>NaN</td>\n",
       "      <td>2022-10-21 17:55:33.946</td>\n",
       "      <td>2022-10-21</td>\n",
       "      <td>17:55:33</td>\n",
       "      <td>2</td>\n",
       "      <td>False</td>\n",
       "      <td>NaN</td>\n",
       "      <td>NaN</td>\n",
       "      <td>NaN</td>\n",
       "      <td>NaN</td>\n",
       "    </tr>\n",
       "    <tr>\n",
       "      <th>1</th>\n",
       "      <td>Chad Larson</td>\n",
       "      <td>1666373448613</td>\n",
       "      <td>To be fair to Hans....no one wants to be assoc...</td>\n",
       "      <td>[{'reaction': 'ð', 'actor': 'Scott Pence'},...</td>\n",
       "      <td>Generic</td>\n",
       "      <td>False</td>\n",
       "      <td>False</td>\n",
       "      <td>{'bumped_message': 'To be fair to Hans....no o...</td>\n",
       "      <td>NaN</td>\n",
       "      <td>NaN</td>\n",
       "      <td>...</td>\n",
       "      <td>NaN</td>\n",
       "      <td>2022-10-21 17:30:48.613</td>\n",
       "      <td>2022-10-21</td>\n",
       "      <td>17:30:48</td>\n",
       "      <td>2</td>\n",
       "      <td>False</td>\n",
       "      <td>NaN</td>\n",
       "      <td>NaN</td>\n",
       "      <td>NaN</td>\n",
       "      <td>NaN</td>\n",
       "    </tr>\n",
       "    <tr>\n",
       "      <th>2</th>\n",
       "      <td>Chad Larson</td>\n",
       "      <td>1666373216381</td>\n",
       "      <td>He would have to prove he didn't cheat and tha...</td>\n",
       "      <td>[{'reaction': 'ð', 'actor': 'Scott Pence'},...</td>\n",
       "      <td>Generic</td>\n",
       "      <td>False</td>\n",
       "      <td>False</td>\n",
       "      <td>{'bumped_message': 'He would have to prove he ...</td>\n",
       "      <td>NaN</td>\n",
       "      <td>NaN</td>\n",
       "      <td>...</td>\n",
       "      <td>NaN</td>\n",
       "      <td>2022-10-21 17:26:56.381</td>\n",
       "      <td>2022-10-21</td>\n",
       "      <td>17:26:56</td>\n",
       "      <td>2</td>\n",
       "      <td>False</td>\n",
       "      <td>NaN</td>\n",
       "      <td>NaN</td>\n",
       "      <td>NaN</td>\n",
       "      <td>NaN</td>\n",
       "    </tr>\n",
       "    <tr>\n",
       "      <th>3</th>\n",
       "      <td>Scott Pence</td>\n",
       "      <td>1666373164883</td>\n",
       "      <td>Yeah, no way. You over shoot and hope to get a...</td>\n",
       "      <td>[{'reaction': 'ð', 'actor': 'Chad Larson'},...</td>\n",
       "      <td>Generic</td>\n",
       "      <td>False</td>\n",
       "      <td>False</td>\n",
       "      <td>{'bumped_message': 'Yeah, no way. You over sho...</td>\n",
       "      <td>NaN</td>\n",
       "      <td>NaN</td>\n",
       "      <td>...</td>\n",
       "      <td>NaN</td>\n",
       "      <td>2022-10-21 17:26:04.883</td>\n",
       "      <td>2022-10-21</td>\n",
       "      <td>17:26:04</td>\n",
       "      <td>2</td>\n",
       "      <td>False</td>\n",
       "      <td>NaN</td>\n",
       "      <td>NaN</td>\n",
       "      <td>NaN</td>\n",
       "      <td>NaN</td>\n",
       "    </tr>\n",
       "    <tr>\n",
       "      <th>4</th>\n",
       "      <td>Chad Larson</td>\n",
       "      <td>1666373111157</td>\n",
       "      <td>From what I see, I don't think he could win.  ...</td>\n",
       "      <td>NaN</td>\n",
       "      <td>Generic</td>\n",
       "      <td>False</td>\n",
       "      <td>False</td>\n",
       "      <td>{'bumped_message': 'From what I see, I don't t...</td>\n",
       "      <td>NaN</td>\n",
       "      <td>NaN</td>\n",
       "      <td>...</td>\n",
       "      <td>NaN</td>\n",
       "      <td>2022-10-21 17:25:11.157</td>\n",
       "      <td>2022-10-21</td>\n",
       "      <td>17:25:11</td>\n",
       "      <td>0</td>\n",
       "      <td>False</td>\n",
       "      <td>NaN</td>\n",
       "      <td>NaN</td>\n",
       "      <td>NaN</td>\n",
       "      <td>NaN</td>\n",
       "    </tr>\n",
       "  </tbody>\n",
       "</table>\n",
       "<p>5 rows × 21 columns</p>\n",
       "</div>"
      ],
      "text/plain": [
       "    sender_name   timestamp_ms  \\\n",
       "0  Joanna Rusch  1666374933946   \n",
       "1   Chad Larson  1666373448613   \n",
       "2   Chad Larson  1666373216381   \n",
       "3   Scott Pence  1666373164883   \n",
       "4   Chad Larson  1666373111157   \n",
       "\n",
       "                                             content  \\\n",
       "0  Maybe he just wants to ride the publicity for ...   \n",
       "1  To be fair to Hans....no one wants to be assoc...   \n",
       "2  He would have to prove he didn't cheat and tha...   \n",
       "3  Yeah, no way. You over shoot and hope to get a...   \n",
       "4  From what I see, I don't think he could win.  ...   \n",
       "\n",
       "                                           reactions     type  is_unsent  \\\n",
       "0  [{'reaction': 'ð', 'actor': 'Chad Larson'},...  Generic      False   \n",
       "1  [{'reaction': 'ð', 'actor': 'Scott Pence'},...  Generic      False   \n",
       "2  [{'reaction': 'ð', 'actor': 'Scott Pence'},...  Generic      False   \n",
       "3  [{'reaction': 'ð', 'actor': 'Chad Larson'},...  Generic      False   \n",
       "4                                                NaN  Generic      False   \n",
       "\n",
       "   is_taken_down                            bumped_message_metadata share  \\\n",
       "0          False  {'bumped_message': 'Maybe he just wants to rid...   NaN   \n",
       "1          False  {'bumped_message': 'To be fair to Hans....no o...   NaN   \n",
       "2          False  {'bumped_message': 'He would have to prove he ...   NaN   \n",
       "3          False  {'bumped_message': 'Yeah, no way. You over sho...   NaN   \n",
       "4          False  {'bumped_message': 'From what I see, I don't t...   NaN   \n",
       "\n",
       "  photos  ... users           full_datetime        date      time  \\\n",
       "0    NaN  ...   NaN 2022-10-21 17:55:33.946  2022-10-21  17:55:33   \n",
       "1    NaN  ...   NaN 2022-10-21 17:30:48.613  2022-10-21  17:30:48   \n",
       "2    NaN  ...   NaN 2022-10-21 17:26:56.381  2022-10-21  17:26:56   \n",
       "3    NaN  ...   NaN 2022-10-21 17:26:04.883  2022-10-21  17:26:04   \n",
       "4    NaN  ...   NaN 2022-10-21 17:25:11.157  2022-10-21  17:25:11   \n",
       "\n",
       "  number_of_reactions  is_bumped   gifs_2 share_2 photos_2 users_2  \n",
       "0                   2       False     NaN     NaN      NaN     NaN  \n",
       "1                   2       False     NaN     NaN      NaN     NaN  \n",
       "2                   2       False     NaN     NaN      NaN     NaN  \n",
       "3                   2       False     NaN     NaN      NaN     NaN  \n",
       "4                   0       False     NaN     NaN      NaN     NaN  \n",
       "\n",
       "[5 rows x 21 columns]"
      ]
     },
     "execution_count": 354,
     "metadata": {},
     "output_type": "execute_result"
    }
   ],
   "source": [
    "cb_m_df.head()"
   ]
  },
  {
   "cell_type": "markdown",
   "id": "800fa0c6-c918-4080-9bc6-fa712e9d152f",
   "metadata": {},
   "source": [
    "# Removing the original complex columns\n",
    "**In this final step, I dropped the original columns with nested structures and created a tidy version of DataFrame 'cb_m_df_tidy'.**"
   ]
  },
  {
   "cell_type": "code",
   "execution_count": 355,
   "id": "e7d2c686-3382-4d1f-bd94-0f10a1e2340a",
   "metadata": {},
   "outputs": [
    {
     "data": {
      "text/html": [
       "<div>\n",
       "<style scoped>\n",
       "    .dataframe tbody tr th:only-of-type {\n",
       "        vertical-align: middle;\n",
       "    }\n",
       "\n",
       "    .dataframe tbody tr th {\n",
       "        vertical-align: top;\n",
       "    }\n",
       "\n",
       "    .dataframe thead th {\n",
       "        text-align: right;\n",
       "    }\n",
       "</style>\n",
       "<table border=\"1\" class=\"dataframe\">\n",
       "  <thead>\n",
       "    <tr style=\"text-align: right;\">\n",
       "      <th></th>\n",
       "      <th>sender_name</th>\n",
       "      <th>content</th>\n",
       "      <th>type</th>\n",
       "      <th>is_unsent</th>\n",
       "      <th>is_taken_down</th>\n",
       "      <th>date</th>\n",
       "      <th>time</th>\n",
       "      <th>number_of_reactions</th>\n",
       "      <th>is_bumped</th>\n",
       "      <th>gifs_2</th>\n",
       "      <th>share_2</th>\n",
       "      <th>photos_2</th>\n",
       "      <th>users_2</th>\n",
       "    </tr>\n",
       "  </thead>\n",
       "  <tbody>\n",
       "    <tr>\n",
       "      <th>0</th>\n",
       "      <td>Joanna Rusch</td>\n",
       "      <td>Maybe he just wants to ride the publicity for ...</td>\n",
       "      <td>Generic</td>\n",
       "      <td>False</td>\n",
       "      <td>False</td>\n",
       "      <td>2022-10-21</td>\n",
       "      <td>17:55:33</td>\n",
       "      <td>2</td>\n",
       "      <td>False</td>\n",
       "      <td>NaN</td>\n",
       "      <td>NaN</td>\n",
       "      <td>NaN</td>\n",
       "      <td>NaN</td>\n",
       "    </tr>\n",
       "    <tr>\n",
       "      <th>1</th>\n",
       "      <td>Chad Larson</td>\n",
       "      <td>To be fair to Hans....no one wants to be assoc...</td>\n",
       "      <td>Generic</td>\n",
       "      <td>False</td>\n",
       "      <td>False</td>\n",
       "      <td>2022-10-21</td>\n",
       "      <td>17:30:48</td>\n",
       "      <td>2</td>\n",
       "      <td>False</td>\n",
       "      <td>NaN</td>\n",
       "      <td>NaN</td>\n",
       "      <td>NaN</td>\n",
       "      <td>NaN</td>\n",
       "    </tr>\n",
       "    <tr>\n",
       "      <th>2</th>\n",
       "      <td>Chad Larson</td>\n",
       "      <td>He would have to prove he didn't cheat and tha...</td>\n",
       "      <td>Generic</td>\n",
       "      <td>False</td>\n",
       "      <td>False</td>\n",
       "      <td>2022-10-21</td>\n",
       "      <td>17:26:56</td>\n",
       "      <td>2</td>\n",
       "      <td>False</td>\n",
       "      <td>NaN</td>\n",
       "      <td>NaN</td>\n",
       "      <td>NaN</td>\n",
       "      <td>NaN</td>\n",
       "    </tr>\n",
       "    <tr>\n",
       "      <th>3</th>\n",
       "      <td>Scott Pence</td>\n",
       "      <td>Yeah, no way. You over shoot and hope to get a...</td>\n",
       "      <td>Generic</td>\n",
       "      <td>False</td>\n",
       "      <td>False</td>\n",
       "      <td>2022-10-21</td>\n",
       "      <td>17:26:04</td>\n",
       "      <td>2</td>\n",
       "      <td>False</td>\n",
       "      <td>NaN</td>\n",
       "      <td>NaN</td>\n",
       "      <td>NaN</td>\n",
       "      <td>NaN</td>\n",
       "    </tr>\n",
       "    <tr>\n",
       "      <th>4</th>\n",
       "      <td>Chad Larson</td>\n",
       "      <td>From what I see, I don't think he could win.  ...</td>\n",
       "      <td>Generic</td>\n",
       "      <td>False</td>\n",
       "      <td>False</td>\n",
       "      <td>2022-10-21</td>\n",
       "      <td>17:25:11</td>\n",
       "      <td>0</td>\n",
       "      <td>False</td>\n",
       "      <td>NaN</td>\n",
       "      <td>NaN</td>\n",
       "      <td>NaN</td>\n",
       "      <td>NaN</td>\n",
       "    </tr>\n",
       "  </tbody>\n",
       "</table>\n",
       "</div>"
      ],
      "text/plain": [
       "    sender_name                                            content     type  \\\n",
       "0  Joanna Rusch  Maybe he just wants to ride the publicity for ...  Generic   \n",
       "1   Chad Larson  To be fair to Hans....no one wants to be assoc...  Generic   \n",
       "2   Chad Larson  He would have to prove he didn't cheat and tha...  Generic   \n",
       "3   Scott Pence  Yeah, no way. You over shoot and hope to get a...  Generic   \n",
       "4   Chad Larson  From what I see, I don't think he could win.  ...  Generic   \n",
       "\n",
       "   is_unsent  is_taken_down        date      time  number_of_reactions  \\\n",
       "0      False          False  2022-10-21  17:55:33                    2   \n",
       "1      False          False  2022-10-21  17:30:48                    2   \n",
       "2      False          False  2022-10-21  17:26:56                    2   \n",
       "3      False          False  2022-10-21  17:26:04                    2   \n",
       "4      False          False  2022-10-21  17:25:11                    0   \n",
       "\n",
       "   is_bumped  gifs_2 share_2 photos_2 users_2  \n",
       "0       False    NaN     NaN      NaN     NaN  \n",
       "1       False    NaN     NaN      NaN     NaN  \n",
       "2       False    NaN     NaN      NaN     NaN  \n",
       "3       False    NaN     NaN      NaN     NaN  \n",
       "4       False    NaN     NaN      NaN     NaN  "
      ]
     },
     "execution_count": 355,
     "metadata": {},
     "output_type": "execute_result"
    }
   ],
   "source": [
    "cb_m_df_tidy = cb_m_df.drop(columns = ['timestamp_ms', 'full_datetime', 'reactions','share','photos','gifs','users','bumped_message_metadata'])\n",
    "cb_m_df_tidy.head()"
   ]
  },
  {
   "cell_type": "code",
   "execution_count": 356,
   "id": "e2bc570f-9513-4dfe-b448-22d5009dc870",
   "metadata": {},
   "outputs": [],
   "source": [
    "cb_m_df_tidy.to_csv('cb_m_df_tidy.csv', index=False)"
   ]
  },
  {
   "cell_type": "markdown",
   "id": "bb4c3c25-7e45-419d-b5d1-44e0cc851d9b",
   "metadata": {},
   "source": [
    "# Why my final DataFrame meets tidy data principles?\n",
    "**I have first converted timestamps into a readable datatime format, which was much easier for audiences to understand. I have then removed unnecessary key elements like \"url\" and \"link\" in units, seperated multiple variables which were stored in one column, such as \"bumped_message_metadata\", and also converted complex information into a numerical variables, making them easier to further analyze (\"reactions\" to \"number of reactions\"). In my final DataFrame, each row represents an observation, like who sent message, what time, and what content, how many reactions received, and each column is a variable, such as \"bumped message content\" and \"is it bumped\". Analysts and audiences could easily read and extract needed variables or data from this tidy DataFrame.**\n",
    "\n",
    "# Potential visualization\n",
    "## 1. Scatter plot visualization\n",
    "**This scatter plot visualizes each message as a point, where the color of each point represents a sender. Each sender would be assigned a unique color to be easily distiguished. While the x-axis of the plot is 'date', showing when each message sent, the y-axis represents 'number of reactions' each message received. By making this plot interactive, when audiences hovers their mouse over any point, a box will appear displaying exact time and message contents.**\n",
    "## 2. Bar chart visualization\n",
    "**The bar chart will visualize the total number of reactions each sender received accorss all their messages. On the x-axis, each bar represents a sender, while the height of each bar indicates the total number of reactions they received on the y-axis.**"
   ]
  }
 ],
 "metadata": {
  "kernelspec": {
   "display_name": "Python 3 (ipykernel)",
   "language": "python",
   "name": "python3"
  },
  "language_info": {
   "codemirror_mode": {
    "name": "ipython",
    "version": 3
   },
   "file_extension": ".py",
   "mimetype": "text/x-python",
   "name": "python",
   "nbconvert_exporter": "python",
   "pygments_lexer": "ipython3",
   "version": "3.12.4"
  }
 },
 "nbformat": 4,
 "nbformat_minor": 5
}
